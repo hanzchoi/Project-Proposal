{
  "nbformat": 4,
  "nbformat_minor": 0,
  "metadata": {
    "colab": {
      "name": "Project Proposal .ipynb",
      "provenance": [],
      "collapsed_sections": []
    },
    "kernelspec": {
      "name": "python3",
      "display_name": "Python 3"
    },
    "language_info": {
      "name": "python"
    }
  },
  "cells": [
    {
      "cell_type": "code",
      "metadata": {
        "id": "qqzFWQaUZ5JD"
      },
      "source": [
        ""
      ],
      "execution_count": null,
      "outputs": []
    },
    {
      "cell_type": "markdown",
      "metadata": {
        "id": "pydsdPvBaHaa"
      },
      "source": [
        "Introduction"
      ]
    },
    {
      "cell_type": "markdown",
      "metadata": {
        "id": "MUeq-ZWDaIzb"
      },
      "source": [
        "Research Questions\n"
      ]
    },
    {
      "cell_type": "markdown",
      "metadata": {
        "id": "aq-wtymXaM09"
      },
      "source": [
        "Data to be Used "
      ]
    },
    {
      "cell_type": "markdown",
      "metadata": {
        "id": "XAl-cgtuaPka"
      },
      "source": [
        "Approach "
      ]
    }
  ]
}